{
 "cells": [
  {
   "cell_type": "markdown",
   "id": "6c6a577f",
   "metadata": {},
   "source": [
    " # The Spark Foundation - Task2\n",
    " \n",
    " # Name Payal Atre\n",
    " \n",
    " \n",
    "# From the given ‘Iris’ dataset, predict the optimum number of clusters \n",
    "# and represent it visually. "
   ]
  },
  {
   "cell_type": "markdown",
   "id": "05fed9bc",
   "metadata": {},
   "source": [
    "# Required R packages"
   ]
  },
  {
   "cell_type": "code",
   "execution_count": 1,
   "id": "548a6c6f",
   "metadata": {},
   "outputs": [
    {
     "name": "stderr",
     "output_type": "stream",
     "text": [
      "Warning message:\n",
      "\"package 'ggpubr' was built under R version 4.0.5\"\n",
      "Loading required package: ggplot2\n",
      "\n",
      "Warning message:\n",
      "\"package 'ggplot2' was built under R version 4.0.5\"\n",
      "Warning message:\n",
      "\"package 'factoextra' was built under R version 4.0.5\"\n",
      "Welcome! Want to learn more? See two factoextra-related books at https://goo.gl/ve3WBa\n",
      "\n",
      "Warning message:\n",
      "\"package 'animation' was built under R version 4.0.5\"\n"
     ]
    }
   ],
   "source": [
    "#ggpubr: creates publication ready plots.\n",
    "#factoextra: Extract and Visualize the Results of Multivariate Data Analyses\n",
    "\n",
    "library(\"ggpubr\")\n",
    "library(\"factoextra\")\n",
    "library(\"animation\")"
   ]
  },
  {
   "cell_type": "markdown",
   "id": "ebc4e7b5",
   "metadata": {},
   "source": [
    "# Data preparation"
   ]
  },
  {
   "cell_type": "code",
   "execution_count": 5,
   "id": "3b899275",
   "metadata": {},
   "outputs": [
    {
     "data": {
      "text/html": [
       "<table class=\"dataframe\">\n",
       "<caption>A data.frame: 3 × 5</caption>\n",
       "<thead>\n",
       "\t<tr><th></th><th scope=col>Sepal.Length</th><th scope=col>Sepal.Width</th><th scope=col>Petal.Length</th><th scope=col>Petal.Width</th><th scope=col>Species</th></tr>\n",
       "\t<tr><th></th><th scope=col>&lt;dbl&gt;</th><th scope=col>&lt;dbl&gt;</th><th scope=col>&lt;dbl&gt;</th><th scope=col>&lt;dbl&gt;</th><th scope=col>&lt;fct&gt;</th></tr>\n",
       "</thead>\n",
       "<tbody>\n",
       "\t<tr><th scope=row>1</th><td>5.1</td><td>3.5</td><td>1.4</td><td>0.2</td><td>setosa</td></tr>\n",
       "\t<tr><th scope=row>2</th><td>4.9</td><td>3.0</td><td>1.4</td><td>0.2</td><td>setosa</td></tr>\n",
       "\t<tr><th scope=row>3</th><td>4.7</td><td>3.2</td><td>1.3</td><td>0.2</td><td>setosa</td></tr>\n",
       "</tbody>\n",
       "</table>\n"
      ],
      "text/latex": [
       "A data.frame: 3 × 5\n",
       "\\begin{tabular}{r|lllll}\n",
       "  & Sepal.Length & Sepal.Width & Petal.Length & Petal.Width & Species\\\\\n",
       "  & <dbl> & <dbl> & <dbl> & <dbl> & <fct>\\\\\n",
       "\\hline\n",
       "\t1 & 5.1 & 3.5 & 1.4 & 0.2 & setosa\\\\\n",
       "\t2 & 4.9 & 3.0 & 1.4 & 0.2 & setosa\\\\\n",
       "\t3 & 4.7 & 3.2 & 1.3 & 0.2 & setosa\\\\\n",
       "\\end{tabular}\n"
      ],
      "text/markdown": [
       "\n",
       "A data.frame: 3 × 5\n",
       "\n",
       "| <!--/--> | Sepal.Length &lt;dbl&gt; | Sepal.Width &lt;dbl&gt; | Petal.Length &lt;dbl&gt; | Petal.Width &lt;dbl&gt; | Species &lt;fct&gt; |\n",
       "|---|---|---|---|---|---|\n",
       "| 1 | 5.1 | 3.5 | 1.4 | 0.2 | setosa |\n",
       "| 2 | 4.9 | 3.0 | 1.4 | 0.2 | setosa |\n",
       "| 3 | 4.7 | 3.2 | 1.3 | 0.2 | setosa |\n",
       "\n"
      ],
      "text/plain": [
       "  Sepal.Length Sepal.Width Petal.Length Petal.Width Species\n",
       "1 5.1          3.5         1.4          0.2         setosa \n",
       "2 4.9          3.0         1.4          0.2         setosa \n",
       "3 4.7          3.2         1.3          0.2         setosa "
      ]
     },
     "metadata": {},
     "output_type": "display_data"
    }
   ],
   "source": [
    "data(\"iris\")\n",
    "df <- iris\n",
    "head(df, 3)"
   ]
  },
  {
   "cell_type": "code",
   "execution_count": 2,
   "id": "dc34ac0b",
   "metadata": {},
   "outputs": [
    {
     "ename": "ERROR",
     "evalue": "Error in df[1:4]: object of type 'closure' is not subsettable\n",
     "output_type": "error",
     "traceback": [
      "Error in df[1:4]: object of type 'closure' is not subsettable\nTraceback:\n",
      "1. kmeans.ani(df[1:4], 3)",
      "2. as.matrix(x)"
     ]
    }
   ],
   "source": [
    "kmeans.ani(df[1:4], 3)"
   ]
  },
  {
   "cell_type": "markdown",
   "id": "5f855f39",
   "metadata": {},
   "source": [
    "# K-means clustering calculation "
   ]
  },
  {
   "cell_type": "markdown",
   "id": "ca2ff62e",
   "metadata": {},
   "source": [
    "1) Removing the 5th column (Species) and scale the data to make variables comparable\n",
    "2) Calculate k-means clustering using k = 3. As the final result of k-means clustering result is sensitive to the random starting assignments, we specify nstart = 25. This means that R will try 25 different random starting assignments and then select the best results."
   ]
  },
  {
   "cell_type": "code",
   "execution_count": 6,
   "id": "b0872b3d",
   "metadata": {},
   "outputs": [
    {
     "data": {
      "text/html": [
       "<style>\n",
       ".list-inline {list-style: none; margin:0; padding: 0}\n",
       ".list-inline>li {display: inline-block}\n",
       ".list-inline>li:not(:last-child)::after {content: \"\\00b7\"; padding: 0 .5ex}\n",
       "</style>\n",
       "<ol class=list-inline><li>1</li><li>1</li><li>1</li><li>1</li><li>1</li><li>1</li><li>1</li><li>1</li><li>1</li><li>1</li><li>1</li><li>1</li><li>1</li><li>1</li><li>1</li><li>1</li><li>1</li><li>1</li><li>1</li><li>1</li><li>1</li><li>1</li><li>1</li><li>1</li><li>1</li><li>1</li><li>1</li><li>1</li><li>1</li><li>1</li><li>1</li><li>1</li><li>1</li><li>1</li><li>1</li><li>1</li><li>1</li><li>1</li><li>1</li><li>1</li><li>1</li><li>1</li><li>1</li><li>1</li><li>1</li><li>1</li><li>1</li><li>1</li><li>1</li><li>1</li><li>3</li><li>3</li><li>3</li><li>2</li><li>2</li><li>2</li><li>3</li><li>2</li><li>2</li><li>2</li><li>2</li><li>2</li><li>2</li><li>2</li><li>2</li><li>3</li><li>2</li><li>2</li><li>2</li><li>2</li><li>3</li><li>2</li><li>2</li><li>2</li><li>2</li><li>3</li><li>3</li><li>3</li><li>2</li><li>2</li><li>2</li><li>2</li><li>2</li><li>2</li><li>2</li><li>3</li><li>3</li><li>2</li><li>2</li><li>2</li><li>2</li><li>2</li><li>2</li><li>2</li><li>2</li><li>2</li><li>2</li><li>2</li><li>2</li><li>2</li><li>3</li><li>2</li><li>3</li><li>3</li><li>3</li><li>3</li><li>2</li><li>3</li><li>3</li><li>3</li><li>3</li><li>3</li><li>3</li><li>2</li><li>2</li><li>3</li><li>3</li><li>3</li><li>3</li><li>2</li><li>3</li><li>2</li><li>3</li><li>2</li><li>3</li><li>3</li><li>2</li><li>3</li><li>3</li><li>3</li><li>3</li><li>3</li><li>3</li><li>2</li><li>2</li><li>3</li><li>3</li><li>3</li><li>2</li><li>3</li><li>3</li><li>3</li><li>2</li><li>3</li><li>3</li><li>3</li><li>2</li><li>3</li><li>3</li><li>2</li></ol>\n"
      ],
      "text/latex": [
       "\\begin{enumerate*}\n",
       "\\item 1\n",
       "\\item 1\n",
       "\\item 1\n",
       "\\item 1\n",
       "\\item 1\n",
       "\\item 1\n",
       "\\item 1\n",
       "\\item 1\n",
       "\\item 1\n",
       "\\item 1\n",
       "\\item 1\n",
       "\\item 1\n",
       "\\item 1\n",
       "\\item 1\n",
       "\\item 1\n",
       "\\item 1\n",
       "\\item 1\n",
       "\\item 1\n",
       "\\item 1\n",
       "\\item 1\n",
       "\\item 1\n",
       "\\item 1\n",
       "\\item 1\n",
       "\\item 1\n",
       "\\item 1\n",
       "\\item 1\n",
       "\\item 1\n",
       "\\item 1\n",
       "\\item 1\n",
       "\\item 1\n",
       "\\item 1\n",
       "\\item 1\n",
       "\\item 1\n",
       "\\item 1\n",
       "\\item 1\n",
       "\\item 1\n",
       "\\item 1\n",
       "\\item 1\n",
       "\\item 1\n",
       "\\item 1\n",
       "\\item 1\n",
       "\\item 1\n",
       "\\item 1\n",
       "\\item 1\n",
       "\\item 1\n",
       "\\item 1\n",
       "\\item 1\n",
       "\\item 1\n",
       "\\item 1\n",
       "\\item 1\n",
       "\\item 3\n",
       "\\item 3\n",
       "\\item 3\n",
       "\\item 2\n",
       "\\item 2\n",
       "\\item 2\n",
       "\\item 3\n",
       "\\item 2\n",
       "\\item 2\n",
       "\\item 2\n",
       "\\item 2\n",
       "\\item 2\n",
       "\\item 2\n",
       "\\item 2\n",
       "\\item 2\n",
       "\\item 3\n",
       "\\item 2\n",
       "\\item 2\n",
       "\\item 2\n",
       "\\item 2\n",
       "\\item 3\n",
       "\\item 2\n",
       "\\item 2\n",
       "\\item 2\n",
       "\\item 2\n",
       "\\item 3\n",
       "\\item 3\n",
       "\\item 3\n",
       "\\item 2\n",
       "\\item 2\n",
       "\\item 2\n",
       "\\item 2\n",
       "\\item 2\n",
       "\\item 2\n",
       "\\item 2\n",
       "\\item 3\n",
       "\\item 3\n",
       "\\item 2\n",
       "\\item 2\n",
       "\\item 2\n",
       "\\item 2\n",
       "\\item 2\n",
       "\\item 2\n",
       "\\item 2\n",
       "\\item 2\n",
       "\\item 2\n",
       "\\item 2\n",
       "\\item 2\n",
       "\\item 2\n",
       "\\item 2\n",
       "\\item 3\n",
       "\\item 2\n",
       "\\item 3\n",
       "\\item 3\n",
       "\\item 3\n",
       "\\item 3\n",
       "\\item 2\n",
       "\\item 3\n",
       "\\item 3\n",
       "\\item 3\n",
       "\\item 3\n",
       "\\item 3\n",
       "\\item 3\n",
       "\\item 2\n",
       "\\item 2\n",
       "\\item 3\n",
       "\\item 3\n",
       "\\item 3\n",
       "\\item 3\n",
       "\\item 2\n",
       "\\item 3\n",
       "\\item 2\n",
       "\\item 3\n",
       "\\item 2\n",
       "\\item 3\n",
       "\\item 3\n",
       "\\item 2\n",
       "\\item 3\n",
       "\\item 3\n",
       "\\item 3\n",
       "\\item 3\n",
       "\\item 3\n",
       "\\item 3\n",
       "\\item 2\n",
       "\\item 2\n",
       "\\item 3\n",
       "\\item 3\n",
       "\\item 3\n",
       "\\item 2\n",
       "\\item 3\n",
       "\\item 3\n",
       "\\item 3\n",
       "\\item 2\n",
       "\\item 3\n",
       "\\item 3\n",
       "\\item 3\n",
       "\\item 2\n",
       "\\item 3\n",
       "\\item 3\n",
       "\\item 2\n",
       "\\end{enumerate*}\n"
      ],
      "text/markdown": [
       "1. 1\n",
       "2. 1\n",
       "3. 1\n",
       "4. 1\n",
       "5. 1\n",
       "6. 1\n",
       "7. 1\n",
       "8. 1\n",
       "9. 1\n",
       "10. 1\n",
       "11. 1\n",
       "12. 1\n",
       "13. 1\n",
       "14. 1\n",
       "15. 1\n",
       "16. 1\n",
       "17. 1\n",
       "18. 1\n",
       "19. 1\n",
       "20. 1\n",
       "21. 1\n",
       "22. 1\n",
       "23. 1\n",
       "24. 1\n",
       "25. 1\n",
       "26. 1\n",
       "27. 1\n",
       "28. 1\n",
       "29. 1\n",
       "30. 1\n",
       "31. 1\n",
       "32. 1\n",
       "33. 1\n",
       "34. 1\n",
       "35. 1\n",
       "36. 1\n",
       "37. 1\n",
       "38. 1\n",
       "39. 1\n",
       "40. 1\n",
       "41. 1\n",
       "42. 1\n",
       "43. 1\n",
       "44. 1\n",
       "45. 1\n",
       "46. 1\n",
       "47. 1\n",
       "48. 1\n",
       "49. 1\n",
       "50. 1\n",
       "51. 3\n",
       "52. 3\n",
       "53. 3\n",
       "54. 2\n",
       "55. 2\n",
       "56. 2\n",
       "57. 3\n",
       "58. 2\n",
       "59. 2\n",
       "60. 2\n",
       "61. 2\n",
       "62. 2\n",
       "63. 2\n",
       "64. 2\n",
       "65. 2\n",
       "66. 3\n",
       "67. 2\n",
       "68. 2\n",
       "69. 2\n",
       "70. 2\n",
       "71. 3\n",
       "72. 2\n",
       "73. 2\n",
       "74. 2\n",
       "75. 2\n",
       "76. 3\n",
       "77. 3\n",
       "78. 3\n",
       "79. 2\n",
       "80. 2\n",
       "81. 2\n",
       "82. 2\n",
       "83. 2\n",
       "84. 2\n",
       "85. 2\n",
       "86. 3\n",
       "87. 3\n",
       "88. 2\n",
       "89. 2\n",
       "90. 2\n",
       "91. 2\n",
       "92. 2\n",
       "93. 2\n",
       "94. 2\n",
       "95. 2\n",
       "96. 2\n",
       "97. 2\n",
       "98. 2\n",
       "99. 2\n",
       "100. 2\n",
       "101. 3\n",
       "102. 2\n",
       "103. 3\n",
       "104. 3\n",
       "105. 3\n",
       "106. 3\n",
       "107. 2\n",
       "108. 3\n",
       "109. 3\n",
       "110. 3\n",
       "111. 3\n",
       "112. 3\n",
       "113. 3\n",
       "114. 2\n",
       "115. 2\n",
       "116. 3\n",
       "117. 3\n",
       "118. 3\n",
       "119. 3\n",
       "120. 2\n",
       "121. 3\n",
       "122. 2\n",
       "123. 3\n",
       "124. 2\n",
       "125. 3\n",
       "126. 3\n",
       "127. 2\n",
       "128. 3\n",
       "129. 3\n",
       "130. 3\n",
       "131. 3\n",
       "132. 3\n",
       "133. 3\n",
       "134. 2\n",
       "135. 2\n",
       "136. 3\n",
       "137. 3\n",
       "138. 3\n",
       "139. 2\n",
       "140. 3\n",
       "141. 3\n",
       "142. 3\n",
       "143. 2\n",
       "144. 3\n",
       "145. 3\n",
       "146. 3\n",
       "147. 2\n",
       "148. 3\n",
       "149. 3\n",
       "150. 2\n",
       "\n",
       "\n"
      ],
      "text/plain": [
       "  [1] 1 1 1 1 1 1 1 1 1 1 1 1 1 1 1 1 1 1 1 1 1 1 1 1 1 1 1 1 1 1 1 1 1 1 1 1 1\n",
       " [38] 1 1 1 1 1 1 1 1 1 1 1 1 1 3 3 3 2 2 2 3 2 2 2 2 2 2 2 2 3 2 2 2 2 3 2 2 2\n",
       " [75] 2 3 3 3 2 2 2 2 2 2 2 3 3 2 2 2 2 2 2 2 2 2 2 2 2 2 3 2 3 3 3 3 2 3 3 3 3\n",
       "[112] 3 3 2 2 3 3 3 3 2 3 2 3 2 3 3 2 3 3 3 3 3 3 2 2 3 3 3 2 3 3 3 2 3 3 3 2 3\n",
       "[149] 3 2"
      ]
     },
     "metadata": {},
     "output_type": "display_data"
    }
   ],
   "source": [
    "# Compute k-means with k = 3\n",
    "set.seed(123)\n",
    "res.km <- kmeans(scale(df[, -5]), 3, nstart = 25)\n",
    "# K-means clusters showing the group of each individuals\n",
    "res.km$cluster"
   ]
  },
  {
   "cell_type": "markdown",
   "id": "812891f0",
   "metadata": {},
   "source": [
    "# Plot k-means\n",
    "\n",
    "# Using the factoextra R package\n"
   ]
  },
  {
   "cell_type": "markdown",
   "id": "50e69eb2",
   "metadata": {},
   "source": [
    "The function fviz_cluster() [factoextra package] can be used to easily visualize k-means clusters. It takes k-means results and the original data as arguments. In the resulting plot, observations are represented by points, using principal components if the number of variables is greater than 2. It’s also possible to draw concentration ellipse around each cluster."
   ]
  },
  {
   "cell_type": "code",
   "execution_count": 7,
   "id": "24e1e564",
   "metadata": {},
   "outputs": [
    {
     "data": {
      "image/png": "[encoded data removed]",
      "text/plain": [
       "plot without title"
      ]
     },
     "metadata": {
      "image/png": {
       "height": 420,
       "width": 420
      }
     },
     "output_type": "display_data"
    }
   ],
   "source": [
    "fviz_cluster(res.km, data = df[, -5],\n",
    "             palette = c(\"#2E9FDF\", \"#00AFBB\", \"#E7B800\"), \n",
    "             geom = \"point\",\n",
    "             ellipse.type = \"convex\", \n",
    "             ggtheme = theme_bw()\n",
    "             )"
   ]
  },
  {
   "cell_type": "markdown",
   "id": "a4ea3720",
   "metadata": {},
   "source": [
    "Using the ggpubr R package\n",
    "If you want to adapt the k-means clustering plot, you can follow the steps below:\n",
    "\n",
    "Compute principal component analysis (PCA) to reduce the data into small dimensions for visualization\n",
    "Use the ggscatter() R function [in ggpubr] or ggplot2 function to visualize the clusters"
   ]
  },
  {
   "cell_type": "markdown",
   "id": "747bd664",
   "metadata": {},
   "source": [
    "# Compute PCA and extract individual coordinates"
   ]
  },
  {
   "cell_type": "code",
   "execution_count": 12,
   "id": "5f7b131d",
   "metadata": {},
   "outputs": [
    {
     "data": {
      "text/html": [
       "<table class=\"dataframe\">\n",
       "<caption>A data.frame: 6 × 6</caption>\n",
       "<thead>\n",
       "\t<tr><th></th><th scope=col>Dim.1</th><th scope=col>Dim.2</th><th scope=col>Dim.3</th><th scope=col>Dim.4</th><th scope=col>cluster</th><th scope=col>Species</th></tr>\n",
       "\t<tr><th></th><th scope=col>&lt;dbl&gt;</th><th scope=col>&lt;dbl&gt;</th><th scope=col>&lt;dbl&gt;</th><th scope=col>&lt;dbl&gt;</th><th scope=col>&lt;fct&gt;</th><th scope=col>&lt;fct&gt;</th></tr>\n",
       "</thead>\n",
       "<tbody>\n",
       "\t<tr><th scope=row>1</th><td>-2.257141</td><td>-0.4784238</td><td> 0.12727962</td><td> 0.024087508</td><td>1</td><td>setosa</td></tr>\n",
       "\t<tr><th scope=row>2</th><td>-2.074013</td><td> 0.6718827</td><td> 0.23382552</td><td> 0.102662845</td><td>1</td><td>setosa</td></tr>\n",
       "\t<tr><th scope=row>3</th><td>-2.356335</td><td> 0.3407664</td><td>-0.04405390</td><td> 0.028282305</td><td>1</td><td>setosa</td></tr>\n",
       "\t<tr><th scope=row>4</th><td>-2.291707</td><td> 0.5953999</td><td>-0.09098530</td><td>-0.065735340</td><td>1</td><td>setosa</td></tr>\n",
       "\t<tr><th scope=row>5</th><td>-2.381863</td><td>-0.6446757</td><td>-0.01568565</td><td>-0.035802870</td><td>1</td><td>setosa</td></tr>\n",
       "\t<tr><th scope=row>6</th><td>-2.068701</td><td>-1.4842053</td><td>-0.02687825</td><td> 0.006586116</td><td>1</td><td>setosa</td></tr>\n",
       "</tbody>\n",
       "</table>\n"
      ],
      "text/latex": [
       "A data.frame: 6 × 6\n",
       "\\begin{tabular}{r|llllll}\n",
       "  & Dim.1 & Dim.2 & Dim.3 & Dim.4 & cluster & Species\\\\\n",
       "  & <dbl> & <dbl> & <dbl> & <dbl> & <fct> & <fct>\\\\\n",
       "\\hline\n",
       "\t1 & -2.257141 & -0.4784238 &  0.12727962 &  0.024087508 & 1 & setosa\\\\\n",
       "\t2 & -2.074013 &  0.6718827 &  0.23382552 &  0.102662845 & 1 & setosa\\\\\n",
       "\t3 & -2.356335 &  0.3407664 & -0.04405390 &  0.028282305 & 1 & setosa\\\\\n",
       "\t4 & -2.291707 &  0.5953999 & -0.09098530 & -0.065735340 & 1 & setosa\\\\\n",
       "\t5 & -2.381863 & -0.6446757 & -0.01568565 & -0.035802870 & 1 & setosa\\\\\n",
       "\t6 & -2.068701 & -1.4842053 & -0.02687825 &  0.006586116 & 1 & setosa\\\\\n",
       "\\end{tabular}\n"
      ],
      "text/markdown": [
       "\n",
       "A data.frame: 6 × 6\n",
       "\n",
       "| <!--/--> | Dim.1 &lt;dbl&gt; | Dim.2 &lt;dbl&gt; | Dim.3 &lt;dbl&gt; | Dim.4 &lt;dbl&gt; | cluster &lt;fct&gt; | Species &lt;fct&gt; |\n",
       "|---|---|---|---|---|---|---|\n",
       "| 1 | -2.257141 | -0.4784238 |  0.12727962 |  0.024087508 | 1 | setosa |\n",
       "| 2 | -2.074013 |  0.6718827 |  0.23382552 |  0.102662845 | 1 | setosa |\n",
       "| 3 | -2.356335 |  0.3407664 | -0.04405390 |  0.028282305 | 1 | setosa |\n",
       "| 4 | -2.291707 |  0.5953999 | -0.09098530 | -0.065735340 | 1 | setosa |\n",
       "| 5 | -2.381863 | -0.6446757 | -0.01568565 | -0.035802870 | 1 | setosa |\n",
       "| 6 | -2.068701 | -1.4842053 | -0.02687825 |  0.006586116 | 1 | setosa |\n",
       "\n"
      ],
      "text/plain": [
       "  Dim.1     Dim.2      Dim.3       Dim.4        cluster Species\n",
       "1 -2.257141 -0.4784238  0.12727962  0.024087508 1       setosa \n",
       "2 -2.074013  0.6718827  0.23382552  0.102662845 1       setosa \n",
       "3 -2.356335  0.3407664 -0.04405390  0.028282305 1       setosa \n",
       "4 -2.291707  0.5953999 -0.09098530 -0.065735340 1       setosa \n",
       "5 -2.381863 -0.6446757 -0.01568565 -0.035802870 1       setosa \n",
       "6 -2.068701 -1.4842053 -0.02687825  0.006586116 1       setosa "
      ]
     },
     "metadata": {},
     "output_type": "display_data"
    }
   ],
   "source": [
    "# Dimension reduction using PCA\n",
    "res.pca <- prcomp(df[, -5],  scale = TRUE)\n",
    "# Coordinates of individuals\n",
    "ind.coord <- as.data.frame(get_pca_ind(res.pca)$coord)\n",
    "# Add clusters obtained using the K-means algorithm\n",
    "ind.coord$cluster <- factor(res.km$cluster)\n",
    "# Add Species groups from the original data set\n",
    "ind.coord$Species <- df$Species\n",
    "# Data inspection\n",
    "head(ind.coord)"
   ]
  },
  {
   "cell_type": "code",
   "execution_count": 13,
   "id": "0d26daa5",
   "metadata": {},
   "outputs": [
    {
     "data": {
      "text/html": [
       "<table class=\"dataframe\">\n",
       "<caption>A data.frame: 4 × 3</caption>\n",
       "<thead>\n",
       "\t<tr><th></th><th scope=col>eigenvalue</th><th scope=col>variance.percent</th><th scope=col>cumulative.variance.percent</th></tr>\n",
       "\t<tr><th></th><th scope=col>&lt;dbl&gt;</th><th scope=col>&lt;dbl&gt;</th><th scope=col>&lt;dbl&gt;</th></tr>\n",
       "</thead>\n",
       "<tbody>\n",
       "\t<tr><th scope=row>Dim.1</th><td>2.9</td><td>73.0</td><td> 73.0</td></tr>\n",
       "\t<tr><th scope=row>Dim.2</th><td>0.9</td><td>22.9</td><td> 95.8</td></tr>\n",
       "\t<tr><th scope=row>Dim.3</th><td>0.1</td><td> 3.7</td><td> 99.5</td></tr>\n",
       "\t<tr><th scope=row>Dim.4</th><td>0.0</td><td> 0.5</td><td>100.0</td></tr>\n",
       "</tbody>\n",
       "</table>\n"
      ],
      "text/latex": [
       "A data.frame: 4 × 3\n",
       "\\begin{tabular}{r|lll}\n",
       "  & eigenvalue & variance.percent & cumulative.variance.percent\\\\\n",
       "  & <dbl> & <dbl> & <dbl>\\\\\n",
       "\\hline\n",
       "\tDim.1 & 2.9 & 73.0 &  73.0\\\\\n",
       "\tDim.2 & 0.9 & 22.9 &  95.8\\\\\n",
       "\tDim.3 & 0.1 &  3.7 &  99.5\\\\\n",
       "\tDim.4 & 0.0 &  0.5 & 100.0\\\\\n",
       "\\end{tabular}\n"
      ],
      "text/markdown": [
       "\n",
       "A data.frame: 4 × 3\n",
       "\n",
       "| <!--/--> | eigenvalue &lt;dbl&gt; | variance.percent &lt;dbl&gt; | cumulative.variance.percent &lt;dbl&gt; |\n",
       "|---|---|---|---|\n",
       "| Dim.1 | 2.9 | 73.0 |  73.0 |\n",
       "| Dim.2 | 0.9 | 22.9 |  95.8 |\n",
       "| Dim.3 | 0.1 |  3.7 |  99.5 |\n",
       "| Dim.4 | 0.0 |  0.5 | 100.0 |\n",
       "\n"
      ],
      "text/plain": [
       "      eigenvalue variance.percent cumulative.variance.percent\n",
       "Dim.1 2.9        73.0              73.0                      \n",
       "Dim.2 0.9        22.9              95.8                      \n",
       "Dim.3 0.1         3.7              99.5                      \n",
       "Dim.4 0.0         0.5             100.0                      "
      ]
     },
     "metadata": {},
     "output_type": "display_data"
    }
   ],
   "source": [
    "# Percentage of variance explained by dimensions\n",
    "eigenvalue <- round(get_eigenvalue(res.pca), 1)\n",
    "variance.percent <- eigenvalue$variance.percent\n",
    "head(eigenvalue)"
   ]
  },
  {
   "cell_type": "markdown",
   "id": "de172a40",
   "metadata": {},
   "source": [
    "# Visualize k-means clusters\n",
    "1) Color individuals according to the cluster groups\n",
    "2) Change point shapes according to the Species groups (ground truth of grouping)\n",
    "3) Add concentration ellipses\n",
    "4) Add cluster centroid using the stat_mean() [ggpubr] R function"
   ]
  },
  {
   "cell_type": "code",
   "execution_count": 14,
   "id": "ad52388a",
   "metadata": {},
   "outputs": [
    {
     "data": {
      "image/png": "[encoded data removed]",
      "text/plain": [
       "plot without title"
      ]
     },
     "metadata": {
      "image/png": {
       "height": 420,
       "width": 420
      }
     },
     "output_type": "display_data"
    }
   ],
   "source": [
    "ggscatter(\n",
    "  ind.coord, x = \"Dim.1\", y = \"Dim.2\", \n",
    "  color = \"cluster\", palette = \"npg\", ellipse = TRUE, ellipse.type = \"convex\",\n",
    "  shape = \"Species\", size = 1.5,  legend = \"right\", ggtheme = theme_bw(),\n",
    "  xlab = paste0(\"Dim 1 (\", variance.percent[1], \"% )\" ),\n",
    "  ylab = paste0(\"Dim 2 (\", variance.percent[2], \"% )\" )\n",
    ") +\n",
    "  stat_mean(aes(color = cluster), size = 4)"
   ]
  },
  {
   "cell_type": "markdown",
   "id": "730f0bfa",
   "metadata": {},
   "source": [
    "## I was able to successfully carry-out prediction using Unsupervised Machine Learning task"
   ]
  }
 ],
 "metadata": {
  "kernelspec": {
   "display_name": "R",
   "language": "R",
   "name": "ir"
  },
  "language_info": {
   "codemirror_mode": "r",
   "file_extension": ".r",
   "mimetype": "text/x-r-source",
   "name": "R",
   "pygments_lexer": "r",
   "version": "4.0.3"
  }
 },
 "nbformat": 4,
 "nbformat_minor": 5
}
